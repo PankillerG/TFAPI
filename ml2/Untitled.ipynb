{
 "cells": [
  {
   "cell_type": "code",
   "execution_count": 3,
   "id": "skilled-luxury",
   "metadata": {},
   "outputs": [],
   "source": [
    "import sys\n",
    "\n",
    "# it's necessary to add to path dir of rest_module\n",
    "sys.path.insert(0, '../connector')"
   ]
  },
  {
   "cell_type": "code",
   "execution_count": 7,
   "id": "proper-panel",
   "metadata": {},
   "outputs": [
    {
     "name": "stdout",
     "output_type": "stream",
     "text": [
      "basic_response_info {\n",
      "  status: \"OK\"\n",
      "}\n",
      "candles {\n",
      "  o: 73.71749877929688\n",
      "  c: 73.65249633789062\n",
      "  l: 73.65249633789062\n",
      "  h: 73.73999786376953\n",
      "  time: \"2020-12-25 07:10:00+00:00\"\n",
      "}\n",
      "candles {\n",
      "  o: 73.66500091552734\n",
      "  c: 73.66000366210938\n",
      "  l: 73.6449966430664\n",
      "  h: 73.69000244140625\n",
      "  time: \"2020-12-25 07:11:00+00:00\"\n",
      "}\n",
      "candles {\n",
      "  o: 73.6500015258789\n",
      "  c: 73.63749694824219\n",
      "  l: 73.62750244140625\n",
      "  h: 73.65750122070312\n",
      "  time: \"2020-12-25 07:12:00+00:00\"\n",
      "}\n",
      "candles {\n",
      "  o: 73.63999938964844\n",
      "  c: 73.66000366210938\n",
      "  l: 73.625\n",
      "  h: 73.66000366210938\n",
      "  time: \"2020-12-25 07:13:00+00:00\"\n",
      "}\n",
      "candles {\n",
      "  o: 73.65249633789062\n",
      "  c: 73.65249633789062\n",
      "  l: 73.63749694824219\n",
      "  h: 73.66000366210938\n",
      "  time: \"2020-12-25 07:14:00+00:00\"\n",
      "}\n",
      "candles {\n",
      "  o: 73.65249633789062\n",
      "  c: 73.66500091552734\n",
      "  l: 73.64250183105469\n",
      "  h: 73.66500091552734\n",
      "  time: \"2020-12-25 07:15:00+00:00\"\n",
      "}\n",
      "\n"
     ]
    }
   ],
   "source": [
    "from rest_module import ConnectorClient\n",
    "\n",
    "cc = ConnectorClient(use_sandbox=True, service_name='ml2')\n",
    "res = cc.get_market_candles('BBG0013HGFT4', '2020-12-25T10:10:00.131642+03:00', '2020-12-25T10:15:00.131642+03:00', '1min')\n",
    "print(res)"
   ]
  },
  {
   "cell_type": "code",
   "execution_count": null,
   "id": "stupid-butter",
   "metadata": {},
   "outputs": [],
   "source": []
  }
 ],
 "metadata": {
  "kernelspec": {
   "display_name": "Python 3",
   "language": "python",
   "name": "python3"
  },
  "language_info": {
   "codemirror_mode": {
    "name": "ipython",
    "version": 3
   },
   "file_extension": ".py",
   "mimetype": "text/x-python",
   "name": "python",
   "nbconvert_exporter": "python",
   "pygments_lexer": "ipython3",
   "version": "3.8.8"
  }
 },
 "nbformat": 4,
 "nbformat_minor": 5
}
